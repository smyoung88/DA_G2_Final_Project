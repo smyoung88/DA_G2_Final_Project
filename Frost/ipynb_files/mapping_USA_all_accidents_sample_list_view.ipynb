{
 "cells": [
  {
   "cell_type": "code",
   "execution_count": 1,
   "id": "3180044c",
   "metadata": {},
   "outputs": [],
   "source": [
    "# Import dependencies\n",
    "import pandas as pd\n",
    "import numpy as np\n",
    "import json\n",
    "import geojson"
   ]
  },
  {
   "cell_type": "code",
   "execution_count": 2,
   "id": "4648d431",
   "metadata": {},
   "outputs": [
    {

     "data": {
      "text/html": [
       "<div>\n",
       "<style scoped>\n",
       "    .dataframe tbody tr th:only-of-type {\n",
       "        vertical-align: middle;\n",
       "    }\n",
       "\n",
       "    .dataframe tbody tr th {\n",
       "        vertical-align: top;\n",
       "    }\n",
       "\n",
       "    .dataframe thead th {\n",
       "        text-align: right;\n",
       "    }\n",
       "</style>\n",
       "<table border=\"1\" class=\"dataframe\">\n",
       "  <thead>\n",
       "    <tr style=\"text-align: right;\">\n",
       "      <th></th>\n",
       "      <th>ID</th>\n",
       "      <th>Severity</th>\n",
       "      <th>Start_Time</th>\n",
       "      <th>End_Time</th>\n",
       "      <th>Start_Lat</th>\n",
       "      <th>Start_Lng</th>\n",
       "      <th>End_Lat</th>\n",
       "      <th>End_Lng</th>\n",
       "      <th>Distance(mi)</th>\n",
       "      <th>Description</th>\n",
       "      <th>...</th>\n",
       "      <th>Roundabout</th>\n",
       "      <th>Station</th>\n",
       "      <th>Stop</th>\n",
       "      <th>Traffic_Calming</th>\n",
       "      <th>Traffic_Signal</th>\n",
       "      <th>Turning_Loop</th>\n",
       "      <th>Sunrise_Sunset</th>\n",
       "      <th>Civil_Twilight</th>\n",
       "      <th>Nautical_Twilight</th>\n",
       "      <th>Astronomical_Twilight</th>\n",
       "    </tr>\n",
       "  </thead>\n",
       "  <tbody>\n",
       "    <tr>\n",
       "      <th>0</th>\n",
       "      <td>A-1</td>\n",
       "      <td>2</td>\n",
       "      <td>2019-05-21 08:29:55</td>\n",
       "      <td>2019-05-21 09:29:40</td>\n",
       "      <td>34.808868</td>\n",
       "      <td>-82.269157</td>\n",
       "      <td>34.808868</td>\n",
       "      <td>-82.269157</td>\n",
       "      <td>0.0</td>\n",
       "      <td>Accident on Tanner Rd at Pennbrooke Ln.</td>\n",
       "      <td>...</td>\n",
       "      <td>False</td>\n",
       "      <td>False</td>\n",
       "      <td>False</td>\n",
       "      <td>False</td>\n",
       "      <td>False</td>\n",
       "      <td>False</td>\n",
       "      <td>Day</td>\n",
       "      <td>Day</td>\n",
       "      <td>Day</td>\n",
       "      <td>Day</td>\n",
       "    </tr>\n",
       "    <tr>\n",
       "      <th>1</th>\n",
       "      <td>A-2</td>\n",
       "      <td>2</td>\n",
       "      <td>2019-10-07 17:43:09</td>\n",
       "      <td>2019-10-07 19:42:50</td>\n",
       "      <td>35.090080</td>\n",
       "      <td>-80.745560</td>\n",
       "      <td>35.090080</td>\n",
       "      <td>-80.745560</td>\n",
       "      <td>0.0</td>\n",
       "      <td>Accident on Houston Branch Rd at Providence Br...</td>\n",
       "      <td>...</td>\n",
       "      <td>False</td>\n",
       "      <td>False</td>\n",
       "      <td>False</td>\n",
       "      <td>False</td>\n",
       "      <td>False</td>\n",
       "      <td>False</td>\n",
       "      <td>Day</td>\n",
       "      <td>Day</td>\n",
       "      <td>Day</td>\n",
       "      <td>Day</td>\n",
       "    </tr>\n",
       "    <tr>\n",
       "      <th>2</th>\n",
       "      <td>A-3</td>\n",
       "      <td>2</td>\n",
       "      <td>2020-12-13 21:53:00</td>\n",
       "      <td>2020-12-13 22:44:00</td>\n",
       "      <td>37.145730</td>\n",
       "      <td>-121.985052</td>\n",
       "      <td>37.165850</td>\n",
       "      <td>-121.988062</td>\n",
       "      <td>1.4</td>\n",
       "      <td>Stationary traffic on CA-17 from Summit Rd (CA...</td>\n",
       "      <td>...</td>\n",
       "      <td>False</td>\n",
       "      <td>False</td>\n",
       "      <td>False</td>\n",
       "      <td>False</td>\n",
       "      <td>False</td>\n",
       "      <td>False</td>\n",
       "      <td>Night</td>\n",
       "      <td>Night</td>\n",
       "      <td>Night</td>\n",
       "      <td>Night</td>\n",
       "    </tr>\n",
       "    <tr>\n",
       "      <th>3</th>\n",
       "      <td>A-4</td>\n",
       "      <td>2</td>\n",
       "      <td>2018-04-17 16:51:23</td>\n",
       "      <td>2018-04-17 17:50:46</td>\n",
       "      <td>39.110390</td>\n",
       "      <td>-119.773781</td>\n",
       "      <td>39.110390</td>\n",
       "      <td>-119.773781</td>\n",
       "      <td>0.0</td>\n",
       "      <td>Accident on US-395 Southbound at Topsy Ln.</td>\n",
       "      <td>...</td>\n",
       "      <td>False</td>\n",
       "      <td>False</td>\n",
       "      <td>False</td>\n",
       "      <td>False</td>\n",
       "      <td>True</td>\n",
       "      <td>False</td>\n",
       "      <td>Day</td>\n",
       "      <td>Day</td>\n",
       "      <td>Day</td>\n",
       "      <td>Day</td>\n",
       "    </tr>\n",
       "    <tr>\n",
       "      <th>4</th>\n",
       "      <td>A-5</td>\n",
       "      <td>3</td>\n",
       "      <td>2016-08-31 17:40:49</td>\n",
       "      <td>2016-08-31 18:10:49</td>\n",
       "      <td>26.102942</td>\n",
       "      <td>-80.265091</td>\n",
       "      <td>26.102942</td>\n",
       "      <td>-80.265091</td>\n",
       "      <td>0.0</td>\n",
       "      <td>Accident on I-595 Westbound at Exit 4 / Pine I...</td>\n",
       "      <td>...</td>\n",
       "      <td>False</td>\n",
       "      <td>False</td>\n",
       "      <td>False</td>\n",
       "      <td>False</td>\n",
       "      <td>True</td>\n",
       "      <td>False</td>\n",
       "      <td>Day</td>\n",
       "      <td>Day</td>\n",
       "      <td>Day</td>\n",
       "      <td>Day</td>\n",
       "    </tr>\n",
       "  </tbody>\n",
       "</table>\n",
       "<p>5 rows × 47 columns</p>\n",
       "</div>"
      ],
      "text/plain": [
       "    ID  Severity           Start_Time             End_Time  Start_Lat  \\\n",
       "0  A-1         2  2019-05-21 08:29:55  2019-05-21 09:29:40  34.808868   \n",
       "1  A-2         2  2019-10-07 17:43:09  2019-10-07 19:42:50  35.090080   \n",
       "2  A-3         2  2020-12-13 21:53:00  2020-12-13 22:44:00  37.145730   \n",
       "3  A-4         2  2018-04-17 16:51:23  2018-04-17 17:50:46  39.110390   \n",
       "4  A-5         3  2016-08-31 17:40:49  2016-08-31 18:10:49  26.102942   \n",
       "\n",
       "    Start_Lng    End_Lat     End_Lng  Distance(mi)  \\\n",
       "0  -82.269157  34.808868  -82.269157           0.0   \n",
       "1  -80.745560  35.090080  -80.745560           0.0   \n",
       "2 -121.985052  37.165850 -121.988062           1.4   \n",
       "3 -119.773781  39.110390 -119.773781           0.0   \n",
       "4  -80.265091  26.102942  -80.265091           0.0   \n",
       "\n",
       "                                         Description  ...  Roundabout Station  \\\n",
       "0            Accident on Tanner Rd at Pennbrooke Ln.  ...       False   False   \n",
       "1  Accident on Houston Branch Rd at Providence Br...  ...       False   False   \n",
       "2  Stationary traffic on CA-17 from Summit Rd (CA...  ...       False   False   \n",
       "3         Accident on US-395 Southbound at Topsy Ln.  ...       False   False   \n",
       "4  Accident on I-595 Westbound at Exit 4 / Pine I...  ...       False   False   \n",
       "\n",
       "    Stop Traffic_Calming Traffic_Signal Turning_Loop Sunrise_Sunset  \\\n",
       "0  False           False          False        False            Day   \n",
       "1  False           False          False        False            Day   \n",
       "2  False           False          False        False          Night   \n",
       "3  False           False           True        False            Day   \n",
       "4  False           False           True        False            Day   \n",
       "\n",
       "  Civil_Twilight Nautical_Twilight Astronomical_Twilight  \n",
       "0            Day               Day                   Day  \n",
       "1            Day               Day                   Day  \n",
       "2          Night             Night                 Night  \n",
       "3            Day               Day                   Day  \n",
       "4            Day               Day                   Day  \n",
       "\n",
       "[5 rows x 47 columns]"
      ]
     },
     "execution_count": 2,
     "metadata": {},
     "output_type": "execute_result"

    }
   ],
   "source": [
    "# Read the accidents CSV into Pandas DataFrame\n",

    "accidents_data = pd.read_csv('../US_Accidents_Dec20_Updated.csv')\n",

    "accidents_data.head()"
   ]
  },
  {
   "cell_type": "code",

   "execution_count": 3,

   "id": "bb686f8d",
   "metadata": {},
   "outputs": [],
   "source": [

    "accidents_data['Number'] = accidents_data['Number'].fillna(0)"

   ]
  },
  {
   "cell_type": "code",

   "execution_count": 4,

   "id": "70a45df3",
   "metadata": {},
   "outputs": [],
   "source": [

    "accidents_data['Number'] = accidents_data['Number'].map(\"{:.0f}\".format)"

   ]
  },
  {
   "cell_type": "code",

   "execution_count": 5,
   "id": "cab3bcd7",
   "metadata": {},
   "outputs": [],
   "source": [
    "accidents_data['Number'].replace({\"0\": \"\"}, inplace=True)"

   ]
  },
  {
   "cell_type": "code",

   "execution_count": 6,
   "id": "c3a8379c",
   "metadata": {},
   "outputs": [],
   "source": [
    "new = accidents_data.sample(100000)"

   ]
  },
  {
   "cell_type": "code",

   "execution_count": 7,
   "id": "de5d0296",
   "metadata": {},
   "outputs": [
    {
     "data": {
      "text/html": [
       "<div>\n",
       "<style scoped>\n",
       "    .dataframe tbody tr th:only-of-type {\n",
       "        vertical-align: middle;\n",
       "    }\n",
       "\n",
       "    .dataframe tbody tr th {\n",
       "        vertical-align: top;\n",
       "    }\n",
       "\n",
       "    .dataframe thead th {\n",
       "        text-align: right;\n",
       "    }\n",
       "</style>\n",
       "<table border=\"1\" class=\"dataframe\">\n",
       "  <thead>\n",
       "    <tr style=\"text-align: right;\">\n",
       "      <th></th>\n",
       "      <th>ID</th>\n",
       "      <th>Severity</th>\n",
       "      <th>Start_Time</th>\n",
       "      <th>End_Time</th>\n",
       "      <th>Start_Lat</th>\n",
       "      <th>Start_Lng</th>\n",
       "      <th>End_Lat</th>\n",
       "      <th>End_Lng</th>\n",
       "      <th>Distance(mi)</th>\n",
       "      <th>Description</th>\n",
       "      <th>...</th>\n",
       "      <th>Roundabout</th>\n",
       "      <th>Station</th>\n",
       "      <th>Stop</th>\n",
       "      <th>Traffic_Calming</th>\n",
       "      <th>Traffic_Signal</th>\n",
       "      <th>Turning_Loop</th>\n",
       "      <th>Sunrise_Sunset</th>\n",
       "      <th>Civil_Twilight</th>\n",
       "      <th>Nautical_Twilight</th>\n",
       "      <th>Astronomical_Twilight</th>\n",
       "    </tr>\n",
       "  </thead>\n",
       "  <tbody>\n",
       "    <tr>\n",
       "      <th>0</th>\n",
       "      <td>A-2391637</td>\n",
       "      <td>2</td>\n",
       "      <td>2016-11-15 18:27:18</td>\n",
       "      <td>2016-11-16 00:27:18</td>\n",
       "      <td>35.3550</td>\n",
       "      <td>-80.8682</td>\n",
       "      <td>35.3556</td>\n",
       "      <td>-80.8685</td>\n",
       "      <td>0.048</td>\n",
       "      <td>At Forest Dr - Accident.</td>\n",
       "      <td>...</td>\n",
       "      <td>False</td>\n",
       "      <td>False</td>\n",
       "      <td>False</td>\n",
       "      <td>False</td>\n",
       "      <td>False</td>\n",
       "      <td>False</td>\n",
       "      <td>Night</td>\n",
       "      <td>Night</td>\n",
       "      <td>Night</td>\n",
       "      <td>Day</td>\n",
       "    </tr>\n",
       "    <tr>\n",
       "      <th>1</th>\n",
       "      <td>A-1601455</td>\n",
       "      <td>2</td>\n",
       "      <td>2020-10-12 21:51:00</td>\n",
       "      <td>2020-10-12 23:07:19</td>\n",
       "      <td>34.0815</td>\n",
       "      <td>-118.2943</td>\n",
       "      <td>34.0882</td>\n",
       "      <td>-118.3047</td>\n",
       "      <td>0.753</td>\n",
       "      <td>Incident on US-101 NB near MELROSE AVE Expect ...</td>\n",
       "      <td>...</td>\n",
       "      <td>False</td>\n",
       "      <td>False</td>\n",
       "      <td>False</td>\n",
       "      <td>False</td>\n",
       "      <td>False</td>\n",
       "      <td>False</td>\n",
       "      <td>Night</td>\n",
       "      <td>Night</td>\n",
       "      <td>Night</td>\n",
       "      <td>Night</td>\n",
       "    </tr>\n",
       "    <tr>\n",
       "      <th>2</th>\n",
       "      <td>A-794633</td>\n",
       "      <td>2</td>\n",
       "      <td>2018-11-09 17:50:44</td>\n",
       "      <td>2018-11-09 18:20:37</td>\n",
       "      <td>37.6472</td>\n",
       "      <td>-77.5860</td>\n",
       "      <td>37.6472</td>\n",
       "      <td>-77.5860</td>\n",
       "      <td>0.000</td>\n",
       "      <td>Accident on US-250 Broad St at Dominion Blvd.</td>\n",
       "      <td>...</td>\n",
       "      <td>False</td>\n",
       "      <td>False</td>\n",
       "      <td>False</td>\n",
       "      <td>False</td>\n",
       "      <td>True</td>\n",
       "      <td>False</td>\n",
       "      <td>Night</td>\n",
       "      <td>Night</td>\n",
       "      <td>Day</td>\n",
       "      <td>Day</td>\n",
       "    </tr>\n",
       "    <tr>\n",
       "      <th>3</th>\n",
       "      <td>A-2262819</td>\n",
       "      <td>2</td>\n",
       "      <td>2016-10-12 16:28:08</td>\n",
       "      <td>2016-10-12 22:28:08</td>\n",
       "      <td>44.9341</td>\n",
       "      <td>-93.2745</td>\n",
       "      <td>44.9431</td>\n",
       "      <td>-93.2746</td>\n",
       "      <td>0.620</td>\n",
       "      <td>At 35th St/36th St/Exit 14 - Accident.</td>\n",
       "      <td>...</td>\n",
       "      <td>False</td>\n",
       "      <td>False</td>\n",
       "      <td>False</td>\n",
       "      <td>False</td>\n",
       "      <td>False</td>\n",
       "      <td>False</td>\n",
       "      <td>Day</td>\n",
       "      <td>Day</td>\n",
       "      <td>Day</td>\n",
       "      <td>Day</td>\n",
       "    </tr>\n",
       "    <tr>\n",
       "      <th>4</th>\n",
       "      <td>A-2135524</td>\n",
       "      <td>1</td>\n",
       "      <td>2020-06-11 14:23:43</td>\n",
       "      <td>2020-06-11 14:38:43</td>\n",
       "      <td>45.4765</td>\n",
       "      <td>-122.8262</td>\n",
       "      <td>45.4765</td>\n",
       "      <td>-122.8262</td>\n",
       "      <td>0.000</td>\n",
       "      <td>At SW Davis Rd - Accident.</td>\n",
       "      <td>...</td>\n",
       "      <td>False</td>\n",
       "      <td>False</td>\n",
       "      <td>False</td>\n",
       "      <td>False</td>\n",
       "      <td>True</td>\n",
       "      <td>False</td>\n",
       "      <td>Day</td>\n",
       "      <td>Day</td>\n",
       "      <td>Day</td>\n",
       "      <td>Day</td>\n",
       "    </tr>\n",
       "  </tbody>\n",
       "</table>\n",
       "<p>5 rows × 47 columns</p>\n",
       "</div>"
      ],
      "text/plain": [
       "          ID  Severity           Start_Time             End_Time  Start_Lat  \\\n",
       "0  A-2391637         2  2016-11-15 18:27:18  2016-11-16 00:27:18    35.3550   \n",
       "1  A-1601455         2  2020-10-12 21:51:00  2020-10-12 23:07:19    34.0815   \n",
       "2   A-794633         2  2018-11-09 17:50:44  2018-11-09 18:20:37    37.6472   \n",
       "3  A-2262819         2  2016-10-12 16:28:08  2016-10-12 22:28:08    44.9341   \n",
       "4  A-2135524         1  2020-06-11 14:23:43  2020-06-11 14:38:43    45.4765   \n",
       "\n",
       "   Start_Lng  End_Lat   End_Lng  Distance(mi)  \\\n",
       "0   -80.8682  35.3556  -80.8685         0.048   \n",
       "1  -118.2943  34.0882 -118.3047         0.753   \n",
       "2   -77.5860  37.6472  -77.5860         0.000   \n",
       "3   -93.2745  44.9431  -93.2746         0.620   \n",
       "4  -122.8262  45.4765 -122.8262         0.000   \n",
       "\n",
       "                                         Description  ... Roundabout Station  \\\n",
       "0                           At Forest Dr - Accident.  ...      False   False   \n",
       "1  Incident on US-101 NB near MELROSE AVE Expect ...  ...      False   False   \n",
       "2      Accident on US-250 Broad St at Dominion Blvd.  ...      False   False   \n",
       "3             At 35th St/36th St/Exit 14 - Accident.  ...      False   False   \n",
       "4                         At SW Davis Rd - Accident.  ...      False   False   \n",
       "\n",
       "    Stop Traffic_Calming Traffic_Signal Turning_Loop Sunrise_Sunset  \\\n",
       "0  False           False          False        False          Night   \n",
       "1  False           False          False        False          Night   \n",
       "2  False           False           True        False          Night   \n",
       "3  False           False          False        False            Day   \n",
       "4  False           False           True        False            Day   \n",
       "\n",
       "  Civil_Twilight Nautical_Twilight Astronomical_Twilight  \n",
       "0          Night             Night                   Day  \n",
       "1          Night             Night                 Night  \n",
       "2          Night               Day                   Day  \n",
       "3            Day               Day                   Day  \n",
       "4            Day               Day                   Day  \n",
       "\n",
       "[5 rows x 47 columns]"
      ]
     },
     "execution_count": 7,
     "metadata": {},
     "output_type": "execute_result"
    }
   ],

   "source": [
    "new = new.round(decimals=4)\n",
    "new.reset_index(drop=True, inplace=True)\n",
    "new.head()"
   ]
  },
  {
   "cell_type": "code",

   "execution_count": 8,

   "id": "87366a6d",
   "metadata": {},
   "outputs": [],
   "source": [
    "Severity = []\n",
    "i = 0\n",
    "while i < len(new['Severity']):\n",
    "    Severity.append(new['Severity'][i])\n",
    "    i+=1"
   ]
  },
  {
   "cell_type": "code",

   "execution_count": 9,

   "id": "8db976ab",
   "metadata": {
    "scrolled": true
   },
   "outputs": [],
   "source": [
    "Start_Time = []\n",
    "i = 0\n",
    "while i < len(new['Start_Time']):\n",
    "    Start_Time.append(new['Start_Time'][i])\n",
    "    i+=1"
   ]
  },
  {
   "cell_type": "code",

   "execution_count": 10,

   "id": "ee4088e3",
   "metadata": {},
   "outputs": [],
   "source": [
    "Start_Lat = []\n",
    "i = 0\n",
    "while i < len(new['Start_Lat']):\n",
    "    Start_Lat.append(new['Start_Lat'][i])\n",
    "    i+=1"
   ]
  },
  {
   "cell_type": "code",

   "execution_count": 11,

   "id": "2e11583d",
   "metadata": {},
   "outputs": [],
   "source": [
    "Start_Lng = []\n",
    "i = 0\n",
    "while i < len(new['Start_Lng']):\n",
    "    Start_Lng.append(new['Start_Lng'][i])\n",
    "    i+=1"
   ]
  },
  {
   "cell_type": "code",

   "execution_count": 12,

   "id": "cf90ed05",
   "metadata": {},
   "outputs": [],
   "source": [
    "City = []\n",
    "i = 0\n",
    "while i < len(new['City']):\n",
    "    City.append(new['City'][i])\n",
    "    i+=1"
   ]
  },
  {
   "cell_type": "code",

   "execution_count": 13,

   "id": "a7b0ed94",
   "metadata": {},
   "outputs": [],
   "source": [
    "State = []\n",
    "i = 0\n",
    "while i < len(new['State']):\n",
    "    State.append(new['State'][i])\n",
    "    i+=1"
   ]
  },
  {
   "cell_type": "code",

   "execution_count": 14,

   "id": "18d79cd3",
   "metadata": {},
   "outputs": [],
   "source": [
    "Description = []\n",
    "i = 0\n",
    "while i < len(new['Description']):\n",
    "    Description.append(new['Description'][i])\n",
    "    i+=1"
   ]
  },
  {
   "cell_type": "code",

   "execution_count": 15,

   "id": "9f5d625c",
   "metadata": {},
   "outputs": [],
   "source": [
    "Street = []\n",
    "i = 0\n",
    "while i < len(new['Street']):\n",
    "    Street.append(new['Street'][i])\n",
    "    i+=1"
   ]
  },
  {
   "cell_type": "code",

   "execution_count": 16,

   "id": "9cf5a371",
   "metadata": {},
   "outputs": [],
   "source": [
    "Number = []\n",
    "i = 0\n",
    "while i < len(new['Number']):\n",
    "    Number.append(new['Number'][i])\n",
    "    i+=1"
   ]
  },
  {
   "cell_type": "code",

   "execution_count": 17,
   "id": "0d241c59",
   "metadata": {},
   "outputs": [
    {
     "data": {
      "text/plain": [
       "'At I-24/I-40 Eastern Split - Accident. Right lane blocked.'"
      ]
     },
     "execution_count": 17,
     "metadata": {},
     "output_type": "execute_result"
    }
   ],

   "source": [
    "new['Description'][10]"
   ]
  },
  {
   "cell_type": "code",

   "execution_count": 18,

   "id": "5209bb38",
   "metadata": {},
   "outputs": [],
   "source": [
    "%%capture cap --no-stderr\n",
    "for (a, b, c, d, e, f, g, h, i) in zip(Start_Time, Start_Lat, Start_Lng, Number, Street, City, State, Description, Severity):\n",
    "    print(f'{{\\n  datetime: \"{a}\",\\n  address: \"{d}{e}\",\\n  city: \"{f}\",\\n  state: \"{g}\",\\n  severity: \"{i}\",\\n  location: \"({b}, {c})\",\\n  description: \"{h}\"\\n}},')"
   ]
  },
  {
   "cell_type": "code",

   "execution_count": 19,

   "id": "9c35c8df",
   "metadata": {},
   "outputs": [],
   "source": [
    "# Print to txt file\n",

    "with open('USA_all_accidents_data_sample.txt', 'w', encoding='UTF-8') as f:\n",

    "    f.write(cap.stdout)"
   ]
  },
  {
   "cell_type": "code",
   "execution_count": null,
   "id": "6d3a936f",
   "metadata": {},
   "outputs": [],
   "source": []
  },
  {
   "cell_type": "code",
   "execution_count": null,
   "id": "fcb8a264",
   "metadata": {},
   "outputs": [],
   "source": []
  },
  {
   "cell_type": "code",
   "execution_count": null,
   "id": "fe8ed9db",
   "metadata": {},
   "outputs": [],
   "source": [
    "new.info()"
   ]
  },
  {
   "cell_type": "code",
   "execution_count": null,
   "id": "fcb531de",
   "metadata": {},
   "outputs": [],
   "source": [
    "def data2geojson(new):\n",
    "    features = []\n",
    "    insert_features = lambda X: features.append(\n",
    "            geojson.Feature(geometry=geojson.Point((X[\"Start_Lng\"],\n",
    "                                                    X[\"Start_Lat\"])),\n",
    "                            properties=dict(datetime=X[\"Start_Time\"],\n",
    "                                            severity=X[\"Severity\"],\n",
    "                                            city=X[\"City\"],\n",
    "                                            state=X[\"State\"],\n",
    "                                            description=X[\"Description\"])))\n",
    "    new.apply(insert_features, axis=1)\n",
    "    with open('TX_sev1_accidents.geojson', 'w', encoding='utf8') as fp:\n",
    "        geojson.dump(geojson.FeatureCollection(features), fp, sort_keys=True, ensure_ascii=False)\n",
    "\n",
    "\n",
    "data2geojson(new)"
   ]
  },
  {
   "cell_type": "code",
   "execution_count": null,
   "id": "473a541b",
   "metadata": {},
   "outputs": [],
   "source": []
  }
 ],
 "metadata": {
  "kernelspec": {
   "display_name": "PythonData",
   "language": "python",
   "name": "pythondata"
  },
  "language_info": {
   "codemirror_mode": {
    "name": "ipython",
    "version": 3
   },
   "file_extension": ".py",
   "mimetype": "text/x-python",
   "name": "python",
   "nbconvert_exporter": "python",
   "pygments_lexer": "ipython3",
   "version": "3.7.9"
  }
 },
 "nbformat": 4,
 "nbformat_minor": 5
}
