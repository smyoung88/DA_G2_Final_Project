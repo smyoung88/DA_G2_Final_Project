{
 "cells": [
  {
   "cell_type": "markdown",
   "id": "7f9224e9",
   "metadata": {},
   "source": [
    "Requirements:\n",
    "<br>\n",
    "ALL .csv files for this project\n",
    "* resources/all_us_highways.csv\n",
    "* resources/all_us_interstates.csv\n",
    "* resources/blue_laws.csv\n",
    "* resources/state_population_data_july2020.csv\n",
    "* resources/US_Accidents_Dec20_Updated.csv\n",
    "* resources/non_freeway_roads/{ALL LOWER 48 STATES}.CSV\n",
    "<br>\n",
    "Warning! This script will pull any and all .csv files in your \"resources\" and \"resources/non_freeway_roads\" folders.\n",
    "<br>\n",
    "Be cautious of what files you have in there."
   ]
  },
  {
   "cell_type": "code",
   "execution_count": 1,
   "id": "affa84ae",
   "metadata": {},
   "outputs": [],
   "source": [
    "import pandas as pd\n",
    "import sqlalchemy\n",
    "import psycopg2\n",
    "import os\n",
    "import getpass\n",
    "import re\n",
    "import time"
   ]
  },
  {
   "cell_type": "code",
   "execution_count": 2,
   "id": "a023b4f2",
   "metadata": {},
   "outputs": [],
   "source": [
    "# WARNING: THIS SCRIPT WILL TAKE EVERYTHING\n",
    "main_tables = ['resources/' + i for i in os.listdir('resources/') if i.endswith('.csv')]\n",
    "state_roads = ['resources/non_freeway_roads/' + i for i in os.listdir('resources/non_freeway_roads/')]"
   ]
  },
  {
   "cell_type": "markdown",
   "id": "fd223488",
   "metadata": {},
   "source": [
    "# Acquire Credentials\n",
    "#### Enter DB Password and Username below.\n",
    "#### By default, pgadmin sets your user to 'postgres'"
   ]
  },
  {
   "cell_type": "code",
   "execution_count": 3,
   "id": "48e6b100",
   "metadata": {},
   "outputs": [
    {
     "name": "stdout",
     "output_type": "stream",
     "text": [
      "Please Enter the AWS Endpoint and Press \"Enter\": \n",
      "········\n"
     ]
    }
   ],
   "source": [
    "print('Please Enter the AWS Endpoint and Press \"Enter\": ')\n",
    "endpoint = getpass.getpass()"
   ]
  },
  {
   "cell_type": "code",
   "execution_count": 4,
   "id": "80f739b0",
   "metadata": {},
   "outputs": [
    {
     "name": "stdout",
     "output_type": "stream",
     "text": [
      "Please Enter the AWS RDS Password and Press \"Enter\":\n",
      "········\n"
     ]
    }
   ],
   "source": [
    "print('Please Enter the AWS RDS Password and Press \"Enter\":')\n",
    "db_pass = getpass.getpass()"
   ]
  },
  {
   "cell_type": "code",
   "execution_count": 5,
   "id": "430cb636",
   "metadata": {},
   "outputs": [],
   "source": [
    "username = 'postgres'"
   ]
  },
  {
   "cell_type": "code",
   "execution_count": 6,
   "id": "8d081627",
   "metadata": {},
   "outputs": [],
   "source": [
    "# Database Creation\n",
    "\n",
    "def make_db(db_pass, username):\n",
    "\n",
    "    db_conn = psycopg2.connect(\n",
    "       database=username, user=username, password=db_pass, host=endpoint, port= '5432'\n",
    "    )\n",
    "    db_conn.autocommit = True\n",
    "    cursor = db_conn.cursor()\n",
    "\n",
    "    #Create New Database\n",
    "    try:\n",
    "        cursor.execute('''CREATE database BootcampFinalProject_Accidents;''')\n",
    "        print('Database Created: \"bootcampfinalproject_accidents\"\\n')\n",
    "    except Exception as exc:\n",
    "        print('Failed to Make Database, see Exception below:\\n')\n",
    "        print(exc)\n",
    "        \n",
    "    return cursor\n",
    "    \n",
    "    \n",
    "def connect_db(db_pass):\n",
    "    #Connect to new database\n",
    "    try:\n",
    "        db_string = f\"postgresql://postgres:{db_pass}@{endpoint}:5432/bootcampfinalproject_accidents\"\n",
    "        engine = sqlalchemy.create_engine(db_string)\n",
    "        print('Connected to the newly created database.')\n",
    "    except Exception as exc:\n",
    "        print('FAILED TO CONNECT to the newly created database')\n",
    "        print('exc')\n",
    "    \n",
    "    return engine"
   ]
  },
  {
   "cell_type": "code",
   "execution_count": 7,
   "id": "345b1c4f",
   "metadata": {},
   "outputs": [],
   "source": [
    "# Table Creation - Input a Pandas Dataframe and send .to_sql\n",
    "def create_table(filename, iteration, total):\n",
    "    \n",
    "    if filename.startswith('resources/non_freeway_roads/'):\n",
    "        table_name = re.findall('\\/\\w*\\/(.*).csv', i)[0]\n",
    "    else:\n",
    "        table_name = re.findall('\\/(.*).csv', i)[0]\n",
    "        \n",
    "    try:\n",
    "        print(f\"{iteration}/{total}: -----{filename}-----\")\n",
    "        df = pd.read_csv(filename)\n",
    "        print(f\"Dataframe Created for: {filename}\")\n",
    "    except:\n",
    "        print(f\"FAILED TO CREATE DATAFRAME FOR: {filename}\")\n",
    "        \n",
    "        \n",
    "    print('\\n')\n",
    "        \n",
    "    try:\n",
    "        df.to_sql(name = table_name, con = engine, if_exists='replace', index=False)\n",
    "        print(\"Successfully pushed to pgAdmin\\n\")\n",
    "        print('-----------------------------------\\n\\n')\n",
    "    except Exception as eff:\n",
    "        print(f\"FAILED TO BE PUSHED to pgAdmin\\n\")\n",
    "        print(eff)\n",
    "        print('-----------------------------------\\n\\n')\n"
   ]
  },
  {
   "cell_type": "code",
   "execution_count": 8,
   "id": "3643ed0d",
   "metadata": {
    "scrolled": true
   },
   "outputs": [
    {
     "name": "stdout",
     "output_type": "stream",
     "text": [
      "Failed to Make Database, see Exception below:\n",
      "\n",
      "database \"bootcampfinalproject_accidents\" already exists\n",
      "\n",
      "Connected to the newly created database.\n"
     ]
    }
   ],
   "source": [
    "cursor = make_db(db_pass, username)\n",
    "engine = connect_db(db_pass)"
   ]
  },
  {
   "cell_type": "code",
   "execution_count": 9,
   "id": "edb817ba",
   "metadata": {},
   "outputs": [
    {
     "name": "stdout",
     "output_type": "stream",
     "text": [
      "1/5: -----resources/all_us_highways.csv-----\n",
      "Dataframe Created for: resources/all_us_highways.csv\n",
      "\n",
      "\n",
      "Successfully pushed to pgAdmin\n",
      "\n",
      "-----------------------------------\n",
      "\n",
      "\n",
      "2/5: -----resources/all_us_interstates.csv-----\n",
      "Dataframe Created for: resources/all_us_interstates.csv\n",
      "\n",
      "\n",
      "Successfully pushed to pgAdmin\n",
      "\n",
      "-----------------------------------\n",
      "\n",
      "\n",
      "3/5: -----resources/blue_laws.csv-----\n",
      "Dataframe Created for: resources/blue_laws.csv\n",
      "\n",
      "\n",
      "Successfully pushed to pgAdmin\n",
      "\n",
      "-----------------------------------\n",
      "\n",
      "\n",
      "4/5: -----resources/state_population_data_july2020.csv-----\n",
      "Dataframe Created for: resources/state_population_data_july2020.csv\n",
      "\n",
      "\n",
      "Successfully pushed to pgAdmin\n",
      "\n",
      "-----------------------------------\n",
      "\n",
      "\n",
      "5/5: -----resources/US_Accidents_Dec20_Updated.csv-----\n",
      "Dataframe Created for: resources/US_Accidents_Dec20_Updated.csv\n",
      "\n",
      "\n",
      "Successfully pushed to pgAdmin\n",
      "\n",
      "-----------------------------------\n",
      "\n",
      "\n"
     ]
    }
   ],
   "source": [
    "total_num_main = len(main_tables)\n",
    "total_num_states = len(state_roads)\n",
    "\n",
    "start_time = time.perf_counter()\n",
    "main_fails = []\n",
    "for h, i in enumerate(main_tables):\n",
    "    try:\n",
    "        create_table(i, h+1, total_num_main)\n",
    "    except:\n",
    "        main_fails.append(i)\n",
    "        \n",
    "        \n",
    "# state_fails = []\n",
    "# for h, i in enumerate(state_roads):\n",
    "#     try:\n",
    "#         create_table(i, h+1, total_num_states)\n",
    "#     except:\n",
    "#         state_fails.append(i)"
   ]
  },
  {
   "cell_type": "code",
   "execution_count": 10,
   "id": "436e6544",
   "metadata": {},
   "outputs": [],
   "source": [
    "time_elapsed = round(time.perf_counter() - start_time, 3)"
   ]
  },
  {
   "cell_type": "code",
   "execution_count": 11,
   "id": "3e6b3571",
   "metadata": {},
   "outputs": [
    {
     "name": "stdout",
     "output_type": "stream",
     "text": [
      "All Items Pushed Successfully!\n",
      "\n",
      "-------------------------------------------------\n",
      "\n",
      "Elapsed Time: 854.461\n"
     ]
    }
   ],
   "source": [
    "if len(main_fails) > 0:\n",
    "    print('\\n\\nThe following files failed to push to pgAdmin:\\n')\n",
    "\n",
    "    for i in main_fails:\n",
    "        print(i)\n",
    "#     for i in state_fails:\n",
    "#         print(i)\n",
    "else:\n",
    "    print('All Items Pushed Successfully!')\n",
    "print('\\n-------------------------------------------------\\n')\n",
    "print(f'Elapsed Time: {time_elapsed}')\n"
   ]
  },
  {
   "cell_type": "code",
   "execution_count": 12,
   "id": "d900dbe2",
   "metadata": {},
   "outputs": [
    {
     "data": {
      "text/plain": [
       "[(40, 3, 6, 1, 'Alabama', 0, 0, 1, 0, 37991, 35594),\n",
       " (40, 3, 6, 1, 'Alabama', 0, 0, 1, 1, 38150, 36679),\n",
       " (40, 3, 6, 1, 'Alabama', 0, 0, 1, 2, 39738, 37904),\n",
       " (40, 3, 6, 1, 'Alabama', 0, 0, 1, 3, 39827, 38510),\n",
       " (40, 3, 6, 1, 'Alabama', 0, 0, 1, 4, 39353, 38476),\n",
       " (40, 3, 6, 1, 'Alabama', 0, 0, 1, 5, 39520, 38575),\n",
       " (40, 3, 6, 1, 'Alabama', 0, 0, 1, 6, 39813, 37775),\n",
       " (40, 3, 6, 1, 'Alabama', 0, 0, 1, 7, 39695, 38528),\n",
       " (40, 3, 6, 1, 'Alabama', 0, 0, 1, 8, 40012, 39209),\n",
       " (40, 3, 6, 1, 'Alabama', 0, 0, 1, 9, 42073, 38596)]"
      ]
     },
     "execution_count": 12,
     "metadata": {},
     "output_type": "execute_result"
    }
   ],
   "source": [
    "engine.execute(\"SELECT * FROM state_population_data_july2020 LIMIT 10;\").all()"
   ]
  },
  {
   "cell_type": "code",
   "execution_count": null,
   "id": "ba9bcfa6",
   "metadata": {},
   "outputs": [],
   "source": []
  }
 ],
 "metadata": {
  "kernelspec": {
   "display_name": "PythonData",
   "language": "python",
   "name": "pythondata"
  },
  "language_info": {
   "codemirror_mode": {
    "name": "ipython",
    "version": 3
   },
   "file_extension": ".py",
   "mimetype": "text/x-python",
   "name": "python",
   "nbconvert_exporter": "python",
   "pygments_lexer": "ipython3",
   "version": "3.9.2"
  }
 },
 "nbformat": 4,
 "nbformat_minor": 5
}
