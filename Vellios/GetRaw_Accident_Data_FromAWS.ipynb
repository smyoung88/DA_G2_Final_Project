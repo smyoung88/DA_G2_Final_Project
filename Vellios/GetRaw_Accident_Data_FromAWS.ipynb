{
 "cells": [
  {
   "cell_type": "code",
   "execution_count": 1,
   "id": "3b6a4754",
   "metadata": {},
   "outputs": [],
   "source": [
    "import pandas as pd\n",
    "import psycopg2\n",
    "import sqlalchemy\n",
    "import getpass\n",
    "import os"
   ]
  },
  {
   "cell_type": "code",
   "execution_count": 2,
   "id": "85056915",
   "metadata": {},
   "outputs": [
    {
     "name": "stdout",
     "output_type": "stream",
     "text": [
      "Enter AWS Endpoint:\n",
      "········\n"
     ]
    }
   ],
   "source": [
    "print('Enter AWS Endpoint:')\n",
    "endpoint = getpass.getpass()"
   ]
  },
  {
   "cell_type": "code",
   "execution_count": 3,
   "id": "1365003a",
   "metadata": {},
   "outputs": [
    {
     "name": "stdout",
     "output_type": "stream",
     "text": [
      "Enter AWS Database Password: \n",
      "········\n"
     ]
    }
   ],
   "source": [
    "print('Enter AWS Database Password: ')\n",
    "aws_pass = getpass.getpass()"
   ]
  },
  {
   "cell_type": "code",
   "execution_count": 4,
   "id": "2f933034",
   "metadata": {},
   "outputs": [],
   "source": [
    "postgres = 'postgres'"
   ]
  },
  {
   "cell_type": "code",
   "execution_count": 5,
   "id": "703523e7",
   "metadata": {},
   "outputs": [],
   "source": [
    "db_string = f\"postgresql+psycopg2://{postgres}:{aws_pass}@{endpoint}:5432/bootcampfinalproject_accidents\"\n",
    "engine = sqlalchemy.create_engine(db_string)\n",
    "con = engine.connect()"
   ]
  },
  {
   "cell_type": "code",
   "execution_count": 6,
   "id": "269eccda",
   "metadata": {},
   "outputs": [],
   "source": [
    "table = sqlalchemy.Table('US_Accidents_Dec20_Updated', sqlalchemy.MetaData(bind=None), autoload=True, autoload_with=engine)\n",
    "statement = sqlalchemy.select([table])"
   ]
  },
  {
   "cell_type": "code",
   "execution_count": 7,
   "id": "5cdd7930",
   "metadata": {},
   "outputs": [],
   "source": [
    "x = con.execute(statement)"
   ]
  },
  {
   "cell_type": "code",
   "execution_count": 8,
   "id": "e38d6790",
   "metadata": {},
   "outputs": [],
   "source": [
    "data = x.fetchall()"
   ]
  },
  {
   "cell_type": "code",
   "execution_count": 9,
   "id": "7ff84b3a",
   "metadata": {},
   "outputs": [],
   "source": [
    "cols = x.keys()"
   ]
  },
  {
   "cell_type": "code",
   "execution_count": 11,
   "id": "839c0bec",
   "metadata": {},
   "outputs": [
    {
     "data": {
      "text/html": [
       "<div>\n",
       "<style scoped>\n",
       "    .dataframe tbody tr th:only-of-type {\n",
       "        vertical-align: middle;\n",
       "    }\n",
       "\n",
       "    .dataframe tbody tr th {\n",
       "        vertical-align: top;\n",
       "    }\n",
       "\n",
       "    .dataframe thead th {\n",
       "        text-align: right;\n",
       "    }\n",
       "</style>\n",
       "<table border=\"1\" class=\"dataframe\">\n",
       "  <thead>\n",
       "    <tr style=\"text-align: right;\">\n",
       "      <th></th>\n",
       "      <th>ID</th>\n",
       "      <th>Severity</th>\n",
       "      <th>Start_Time</th>\n",
       "      <th>End_Time</th>\n",
       "      <th>Start_Lat</th>\n",
       "      <th>Start_Lng</th>\n",
       "      <th>End_Lat</th>\n",
       "      <th>End_Lng</th>\n",
       "      <th>Distance(mi)</th>\n",
       "      <th>Description</th>\n",
       "      <th>...</th>\n",
       "      <th>Roundabout</th>\n",
       "      <th>Station</th>\n",
       "      <th>Stop</th>\n",
       "      <th>Traffic_Calming</th>\n",
       "      <th>Traffic_Signal</th>\n",
       "      <th>Turning_Loop</th>\n",
       "      <th>Sunrise_Sunset</th>\n",
       "      <th>Civil_Twilight</th>\n",
       "      <th>Nautical_Twilight</th>\n",
       "      <th>Astronomical_Twilight</th>\n",
       "    </tr>\n",
       "  </thead>\n",
       "  <tbody>\n",
       "    <tr>\n",
       "      <th>0</th>\n",
       "      <td>A-988426</td>\n",
       "      <td>2</td>\n",
       "      <td>2020-09-22 11:54:00</td>\n",
       "      <td>2020-09-22 18:48:00</td>\n",
       "      <td>34.053044</td>\n",
       "      <td>-118.228279</td>\n",
       "      <td>34.076264</td>\n",
       "      <td>-118.277804</td>\n",
       "      <td>3.257</td>\n",
       "      <td>Queuing traffic on US-101 from I-10 (US-101) t...</td>\n",
       "      <td>...</td>\n",
       "      <td>False</td>\n",
       "      <td>False</td>\n",
       "      <td>False</td>\n",
       "      <td>False</td>\n",
       "      <td>False</td>\n",
       "      <td>False</td>\n",
       "      <td>Day</td>\n",
       "      <td>Day</td>\n",
       "      <td>Day</td>\n",
       "      <td>Day</td>\n",
       "    </tr>\n",
       "    <tr>\n",
       "      <th>1</th>\n",
       "      <td>A-988427</td>\n",
       "      <td>2</td>\n",
       "      <td>2018-09-11 15:58:56</td>\n",
       "      <td>2018-09-11 16:28:17</td>\n",
       "      <td>32.718935</td>\n",
       "      <td>-117.102798</td>\n",
       "      <td>32.718935</td>\n",
       "      <td>-117.102798</td>\n",
       "      <td>0.000</td>\n",
       "      <td>At I-805 - Accident.</td>\n",
       "      <td>...</td>\n",
       "      <td>False</td>\n",
       "      <td>False</td>\n",
       "      <td>False</td>\n",
       "      <td>False</td>\n",
       "      <td>False</td>\n",
       "      <td>False</td>\n",
       "      <td>Day</td>\n",
       "      <td>Day</td>\n",
       "      <td>Day</td>\n",
       "      <td>Day</td>\n",
       "    </tr>\n",
       "    <tr>\n",
       "      <th>2</th>\n",
       "      <td>A-988428</td>\n",
       "      <td>2</td>\n",
       "      <td>2020-12-08 05:27:00</td>\n",
       "      <td>2020-12-08 08:44:00</td>\n",
       "      <td>33.249751</td>\n",
       "      <td>-86.217181</td>\n",
       "      <td>33.251015</td>\n",
       "      <td>-86.215784</td>\n",
       "      <td>0.119</td>\n",
       "      <td>Incident on AL-21 NB near MM 215 Road closed. ...</td>\n",
       "      <td>...</td>\n",
       "      <td>False</td>\n",
       "      <td>False</td>\n",
       "      <td>False</td>\n",
       "      <td>False</td>\n",
       "      <td>False</td>\n",
       "      <td>False</td>\n",
       "      <td>Night</td>\n",
       "      <td>Night</td>\n",
       "      <td>Night</td>\n",
       "      <td>Day</td>\n",
       "    </tr>\n",
       "    <tr>\n",
       "      <th>3</th>\n",
       "      <td>A-988429</td>\n",
       "      <td>2</td>\n",
       "      <td>2017-02-06 13:07:44</td>\n",
       "      <td>2017-02-06 19:07:44</td>\n",
       "      <td>34.125076</td>\n",
       "      <td>-118.476775</td>\n",
       "      <td>34.111958</td>\n",
       "      <td>-118.482242</td>\n",
       "      <td>0.959</td>\n",
       "      <td>At Skirball Center Dr/Exit 61 - Accident.</td>\n",
       "      <td>...</td>\n",
       "      <td>False</td>\n",
       "      <td>False</td>\n",
       "      <td>False</td>\n",
       "      <td>False</td>\n",
       "      <td>False</td>\n",
       "      <td>False</td>\n",
       "      <td>Day</td>\n",
       "      <td>Day</td>\n",
       "      <td>Day</td>\n",
       "      <td>Day</td>\n",
       "    </tr>\n",
       "    <tr>\n",
       "      <th>4</th>\n",
       "      <td>A-988430</td>\n",
       "      <td>1</td>\n",
       "      <td>2020-06-26 10:28:00</td>\n",
       "      <td>2020-06-26 10:43:00</td>\n",
       "      <td>29.927620</td>\n",
       "      <td>-90.028270</td>\n",
       "      <td>29.927620</td>\n",
       "      <td>-90.028270</td>\n",
       "      <td>0.000</td>\n",
       "      <td>At MacArthur Blvd/Westbend Pky - Accident.</td>\n",
       "      <td>...</td>\n",
       "      <td>False</td>\n",
       "      <td>False</td>\n",
       "      <td>False</td>\n",
       "      <td>False</td>\n",
       "      <td>False</td>\n",
       "      <td>False</td>\n",
       "      <td>Day</td>\n",
       "      <td>Day</td>\n",
       "      <td>Day</td>\n",
       "      <td>Day</td>\n",
       "    </tr>\n",
       "  </tbody>\n",
       "</table>\n",
       "<p>5 rows × 47 columns</p>\n",
       "</div>"
      ],
      "text/plain": [
       "         ID  Severity           Start_Time             End_Time  Start_Lat  \\\n",
       "0  A-988426         2  2020-09-22 11:54:00  2020-09-22 18:48:00  34.053044   \n",
       "1  A-988427         2  2018-09-11 15:58:56  2018-09-11 16:28:17  32.718935   \n",
       "2  A-988428         2  2020-12-08 05:27:00  2020-12-08 08:44:00  33.249751   \n",
       "3  A-988429         2  2017-02-06 13:07:44  2017-02-06 19:07:44  34.125076   \n",
       "4  A-988430         1  2020-06-26 10:28:00  2020-06-26 10:43:00  29.927620   \n",
       "\n",
       "    Start_Lng    End_Lat     End_Lng  Distance(mi)  \\\n",
       "0 -118.228279  34.076264 -118.277804         3.257   \n",
       "1 -117.102798  32.718935 -117.102798         0.000   \n",
       "2  -86.217181  33.251015  -86.215784         0.119   \n",
       "3 -118.476775  34.111958 -118.482242         0.959   \n",
       "4  -90.028270  29.927620  -90.028270         0.000   \n",
       "\n",
       "                                         Description  ...  Roundabout Station  \\\n",
       "0  Queuing traffic on US-101 from I-10 (US-101) t...  ...       False   False   \n",
       "1                               At I-805 - Accident.  ...       False   False   \n",
       "2  Incident on AL-21 NB near MM 215 Road closed. ...  ...       False   False   \n",
       "3          At Skirball Center Dr/Exit 61 - Accident.  ...       False   False   \n",
       "4         At MacArthur Blvd/Westbend Pky - Accident.  ...       False   False   \n",
       "\n",
       "    Stop Traffic_Calming Traffic_Signal Turning_Loop Sunrise_Sunset  \\\n",
       "0  False           False          False        False            Day   \n",
       "1  False           False          False        False            Day   \n",
       "2  False           False          False        False          Night   \n",
       "3  False           False          False        False            Day   \n",
       "4  False           False          False        False            Day   \n",
       "\n",
       "  Civil_Twilight Nautical_Twilight Astronomical_Twilight  \n",
       "0            Day               Day                   Day  \n",
       "1            Day               Day                   Day  \n",
       "2          Night             Night                   Day  \n",
       "3            Day               Day                   Day  \n",
       "4            Day               Day                   Day  \n",
       "\n",
       "[5 rows x 47 columns]"
      ]
     },
     "execution_count": 11,
     "metadata": {},
     "output_type": "execute_result"
    }
   ],
   "source": [
    "accident_df = pd.DataFrame(data = data, columns = cols)\n",
    "accident_df.head()"
   ]
  },
  {
   "cell_type": "code",
   "execution_count": 12,
   "id": "e2b165de",
   "metadata": {},
   "outputs": [
    {
     "data": {
      "text/plain": [
       "ID                        object\n",
       "Severity                   int64\n",
       "Start_Time                object\n",
       "End_Time                  object\n",
       "Start_Lat                float64\n",
       "Start_Lng                float64\n",
       "End_Lat                  float64\n",
       "End_Lng                  float64\n",
       "Distance(mi)             float64\n",
       "Description               object\n",
       "Number                   float64\n",
       "Street                    object\n",
       "Side                      object\n",
       "City                      object\n",
       "County                    object\n",
       "State                     object\n",
       "Zipcode                   object\n",
       "Country                   object\n",
       "Timezone                  object\n",
       "Airport_Code              object\n",
       "Weather_Timestamp         object\n",
       "Temperature(F)           float64\n",
       "Wind_Chill(F)            float64\n",
       "Humidity(%)              float64\n",
       "Pressure(in)             float64\n",
       "Visibility(mi)           float64\n",
       "Wind_Direction            object\n",
       "Wind_Speed(mph)          float64\n",
       "Precipitation(in)        float64\n",
       "Weather_Condition         object\n",
       "Amenity                     bool\n",
       "Bump                        bool\n",
       "Crossing                    bool\n",
       "Give_Way                    bool\n",
       "Junction                    bool\n",
       "No_Exit                     bool\n",
       "Railway                     bool\n",
       "Roundabout                  bool\n",
       "Station                     bool\n",
       "Stop                        bool\n",
       "Traffic_Calming             bool\n",
       "Traffic_Signal              bool\n",
       "Turning_Loop                bool\n",
       "Sunrise_Sunset            object\n",
       "Civil_Twilight            object\n",
       "Nautical_Twilight         object\n",
       "Astronomical_Twilight     object\n",
       "dtype: object"
      ]
     },
     "execution_count": 12,
     "metadata": {},
     "output_type": "execute_result"
    }
   ],
   "source": [
    "accident_df.dtypes"
   ]
  },
  {
   "cell_type": "code",
   "execution_count": null,
   "id": "a8e5ce6a",
   "metadata": {},
   "outputs": [],
   "source": []
  }
 ],
 "metadata": {
  "kernelspec": {
   "display_name": "Python 3",
   "language": "python",
   "name": "python3"
  },
  "language_info": {
   "codemirror_mode": {
    "name": "ipython",
    "version": 3
   },
   "file_extension": ".py",
   "mimetype": "text/x-python",
   "name": "python",
   "nbconvert_exporter": "python",
   "pygments_lexer": "ipython3",
   "version": "3.7.9"
  }
 },
 "nbformat": 4,
 "nbformat_minor": 5
}
