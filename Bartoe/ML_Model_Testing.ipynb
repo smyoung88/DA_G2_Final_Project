{
  "nbformat": 4,
  "nbformat_minor": 0,
  "metadata": {
    "colab": {
      "name": "ML_Model_Testing.ipynb",
      "provenance": []
    },
    "kernelspec": {
      "name": "python3",
      "display_name": "Python 3"
    },
    "language_info": {
      "name": "python"
    }
  },
  "cells": [
    {
      "cell_type": "code",
      "metadata": {
        "colab": {
          "base_uri": "https://localhost:8080/"
        },
        "id": "5AXO7eRGvmUn",
        "outputId": "d6b97e27-96f6-4025-b80d-a7e8e8fc6c26"
      },
      "source": [
        "import pandas as pd\n",
        "import numpy as np\n",
        "from sklearn.model_selection import train_test_split\n",
        "from sklearn.preprocessing import StandardScaler,OneHotEncoder\n",
        "import tensorflow as tf\n",
        "from sklearn.ensemble import GradientBoostingClassifier\n",
        "from sklearn.ensemble import RandomForestClassifier\n",
        "from sklearn.feature_selection import SelectFromModel\n",
        "from sklearn.metrics import confusion_matrix\n",
        "from sklearn.metrics import accuracy_score\n",
        "from sklearn.metrics import classification_report\n",
        "from collections import Counter\n",
        "from imblearn.metrics import classification_report_imbalanced\n",
        "from imblearn.over_sampling import RandomOverSampler\n",
        "from imblearn.over_sampling import SMOTE\n",
        "from imblearn.combine import SMOTEENN\n",
        "from imblearn.under_sampling import RandomUnderSampler"
      ],
      "execution_count": 1,
      "outputs": [
        {
          "output_type": "stream",
          "text": [
            "/usr/local/lib/python3.7/dist-packages/sklearn/externals/six.py:31: FutureWarning: The module is deprecated in version 0.21 and will be removed in version 0.23 since we've dropped support for Python 2.7. Please rely on the official version of six (https://pypi.org/project/six/).\n",
            "  \"(https://pypi.org/project/six/).\", FutureWarning)\n",
            "/usr/local/lib/python3.7/dist-packages/sklearn/utils/deprecation.py:144: FutureWarning: The sklearn.neighbors.base module is  deprecated in version 0.22 and will be removed in version 0.24. The corresponding classes / functions should instead be imported from sklearn.neighbors. Anything that cannot be imported from sklearn.neighbors is now part of the private API.\n",
            "  warnings.warn(message, FutureWarning)\n",
            "/usr/local/lib/python3.7/dist-packages/sklearn/utils/deprecation.py:144: FutureWarning: The sklearn.metrics.classification module is  deprecated in version 0.22 and will be removed in version 0.24. The corresponding classes / functions should instead be imported from sklearn.metrics. Anything that cannot be imported from sklearn.metrics is now part of the private API.\n",
            "  warnings.warn(message, FutureWarning)\n"
          ],
          "name": "stderr"
        }
      ]
    },
    {
      "cell_type": "code",
      "metadata": {
        "colab": {
          "base_uri": "https://localhost:8080/"
        },
        "id": "o2m__hl2vqpC",
        "outputId": "04a056fa-c52e-48ac-c0a4-dd751c2c2f4e"
      },
      "source": [
        "from google.colab import drive\n",
        "drive.mount('/content/drive/')\n",
        "\n",
        "path = '/content/drive/MyDrive/ML_data_and_code/Accidents_Sample_Preprocessed_Encoded_Sampled.csv'\n",
        "accidents = pd.read_csv(path)"
      ],
      "execution_count": 2,
      "outputs": [
        {
          "output_type": "stream",
          "text": [
            "Drive already mounted at /content/drive/; to attempt to forcibly remount, call drive.mount(\"/content/drive/\", force_remount=True).\n"
          ],
          "name": "stdout"
        }
      ]
    },
    {
      "cell_type": "code",
      "metadata": {
        "id": "oKWRzdfavyMY"
      },
      "source": [
        "# Define features set\n",
        "X = accidents.copy()\n",
        "X = X.drop(\"Severity\", axis=1)\n",
        "# X.head()"
      ],
      "execution_count": 3,
      "outputs": []
    },
    {
      "cell_type": "code",
      "metadata": {
        "id": "3LNiljPpwJCU"
      },
      "source": [
        "# Define target vector\n",
        "y = accidents[\"Severity\"].values"
      ],
      "execution_count": 5,
      "outputs": []
    },
    {
      "cell_type": "code",
      "metadata": {
        "id": "UwZT3iB_wR-U"
      },
      "source": [
        "# Splitting into Train and Test sets\n",
        "X_train, X_test, y_train, y_test = train_test_split(X, y, random_state=1)\n",
        "\n",
        "# Creating StandardScaler instance\n",
        "scaler = StandardScaler()\n",
        "\n",
        "# Fitting Standard Scaler\n",
        "X_scaler = scaler.fit(X_train)\n",
        "\n",
        "# Scaling data\n",
        "X_train_scaled = X_scaler.transform(X_train)\n",
        "X_test_scaled = X_scaler.transform(X_test)"
      ],
      "execution_count": 6,
      "outputs": []
    },
    {
      "cell_type": "code",
      "metadata": {
        "colab": {
          "base_uri": "https://localhost:8080/"
        },
        "id": "grRAgUXdwUzD",
        "outputId": "8641c3b9-5977-4bdf-dd19-c241ede2d79d"
      },
      "source": [
        "#finding the ideal number of features\n",
        "\n",
        "#Call and Fit the model \n",
        "sel = SelectFromModel(RandomForestClassifier(n_estimators = 100))\n",
        "sel.fit_transform(X_train, y_train)\n",
        "\n",
        "#identify the number of features that have importance above the mean importance level.\n",
        "selected_feat = X_train.columns[(sel.get_support())]\n",
        "print(len(selected_feat))\n",
        "\n",
        "#show the important features\n",
        "print(selected_feat)\n",
        "\n"
      ],
      "execution_count": 7,
      "outputs": [
        {
          "output_type": "stream",
          "text": [
            "273\n",
            "Index(['Unnamed: 0', 'Side', 'Weather_Condition_Wind', 'Crossing', 'Junction',\n",
            "       'Railway', 'Station', 'Stop', 'Traffic_Signal',\n",
            "       'Weather_Condition_Cloudy',\n",
            "       ...\n",
            "       'Hour_21', 'Hour_22', 'Hour_23', 'Hour_3', 'Hour_4', 'Hour_5', 'Hour_6',\n",
            "       'Hour_7', 'Hour_8', 'Hour_9'],\n",
            "      dtype='object', length=273)\n"
          ],
          "name": "stdout"
        }
      ]
    },
    {
      "cell_type": "code",
      "metadata": {
        "id": "WAdyH6IAwgcV"
      },
      "source": [
        "feature_num = len(selected_feat)"
      ],
      "execution_count": 8,
      "outputs": []
    },
    {
      "cell_type": "code",
      "metadata": {
        "colab": {
          "base_uri": "https://localhost:8080/"
        },
        "id": "y6P_8gUdws4K",
        "outputId": "92c5d5aa-a647-4d00-c3bb-c6f937695d2a"
      },
      "source": [
        "# Use the SMOTEENN technique to perform combination of oversampling and undersampling on the data\n",
        "\n",
        "# Count the resampled classes\n",
        "smote_enn = SMOTEENN(random_state=0)\n",
        "X_SMOTEENNresampled, y_SMOTEENNresampled = smote_enn.fit_resample(X, y)\n",
        "Counter(y_SMOTEENNresampled)"
      ],
      "execution_count": null,
      "outputs": [
        {
          "output_type": "stream",
          "text": [
            "/usr/local/lib/python3.7/dist-packages/sklearn/utils/deprecation.py:87: FutureWarning: Function safe_indexing is deprecated; safe_indexing is deprecated in version 0.22 and will be removed in version 0.24.\n",
            "  warnings.warn(msg, category=FutureWarning)\n"
          ],
          "name": "stderr"
        }
      ]
    },
    {
      "cell_type": "code",
      "metadata": {
        "id": "8O6jN7ZNw2Qq"
      },
      "source": [
        "#Run the model\n",
        "SMOTEENN_classifier = GradientBoostingClassifier(n_estimators=100,\n",
        "                                        learning_rate=0.5,\n",
        "                                        max_features=feature_num,\n",
        "                                        max_depth=3,\n",
        "                                        random_state=0)\n",
        "\n",
        "# Fit the model\n",
        "SMOTEENN_classifier.fit(X_SMOTEENNresampled, y_SMOTEENNresampled)"
      ],
      "execution_count": null,
      "outputs": []
    },
    {
      "cell_type": "code",
      "metadata": {
        "id": "BD-tLU96w5nM"
      },
      "source": [
        "# Make Prediction\n",
        "SMOTEENN_predictions = SMOTEENN_classifier.predict(X_SMOTEENNresampled)\n",
        "pd.DataFrame({\"Prediction\": SMOTEENN_predictions, \"Actual\": y_SMOTEENNresampled}).head(20)"
      ],
      "execution_count": null,
      "outputs": []
    },
    {
      "cell_type": "code",
      "metadata": {
        "id": "HLRu458Zw-dE"
      },
      "source": [
        "# Calculating the accuracy score\n",
        "SMOTEENN_acc_score = accuracy_score(y_SMOTEENNresampled, SMOTEENN_predictions)\n",
        "print(f\"Accuracy Score : {SMOTEENN_acc_score}\")"
      ],
      "execution_count": null,
      "outputs": []
    },
    {
      "cell_type": "code",
      "metadata": {
        "id": "akFHNX8hw_M0"
      },
      "source": [
        "# Generate the confusion matrix\n",
        "cm = confusion_matrix(y_SMOTEENNresampled, SMOTEENN_predictions)\n",
        "cm"
      ],
      "execution_count": null,
      "outputs": []
    },
    {
      "cell_type": "code",
      "metadata": {
        "id": "dZkhJrhCxEH8"
      },
      "source": [
        "# Print the imbalanced classification report for SMOTEENN resampling\n",
        "print(classification_report_imbalanced(y_SMOTEENNresampled, SMOTEENN_predictions))"
      ],
      "execution_count": null,
      "outputs": []
    }
  ]
}